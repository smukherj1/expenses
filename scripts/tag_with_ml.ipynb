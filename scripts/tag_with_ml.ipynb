{
 "cells": [
  {
   "cell_type": "markdown",
   "id": "83084221",
   "metadata": {},
   "source": [
    "# Clean Descriptions for ML"
   ]
  },
  {
   "cell_type": "code",
   "execution_count": 7,
   "id": "53b9421b",
   "metadata": {},
   "outputs": [
    {
     "data": {
      "text/html": [
       "<div>\n",
       "<style scoped>\n",
       "    .dataframe tbody tr th:only-of-type {\n",
       "        vertical-align: middle;\n",
       "    }\n",
       "\n",
       "    .dataframe tbody tr th {\n",
       "        vertical-align: top;\n",
       "    }\n",
       "\n",
       "    .dataframe thead th {\n",
       "        text-align: right;\n",
       "    }\n",
       "</style>\n",
       "<table border=\"1\" class=\"dataframe\">\n",
       "  <thead>\n",
       "    <tr style=\"text-align: right;\">\n",
       "      <th></th>\n",
       "      <th>id</th>\n",
       "      <th>date</th>\n",
       "      <th>description</th>\n",
       "      <th>amount</th>\n",
       "      <th>source</th>\n",
       "      <th>tags</th>\n",
       "    </tr>\n",
       "  </thead>\n",
       "  <tbody>\n",
       "    <tr>\n",
       "      <th>0</th>\n",
       "      <td>1</td>\n",
       "      <td>2014-12-19</td>\n",
       "      <td>Funds transfer credit TT UJJAL KUMAR</td>\n",
       "      <td>5320.00</td>\n",
       "      <td>RBC_CHEQUING</td>\n",
       "      <td>[transfer]</td>\n",
       "    </tr>\n",
       "    <tr>\n",
       "      <th>1</th>\n",
       "      <td>2</td>\n",
       "      <td>2014-12-19</td>\n",
       "      <td>Funds transfer fee TT UJJAL KUMAR</td>\n",
       "      <td>-15.00</td>\n",
       "      <td>RBC_CHEQUING</td>\n",
       "      <td>[misc]</td>\n",
       "    </tr>\n",
       "    <tr>\n",
       "      <th>2</th>\n",
       "      <td>3</td>\n",
       "      <td>2015-01-05</td>\n",
       "      <td>Online Banking payment - 0440 UOFT</td>\n",
       "      <td>-5327.61</td>\n",
       "      <td>RBC_CHEQUING</td>\n",
       "      <td>[education]</td>\n",
       "    </tr>\n",
       "    <tr>\n",
       "      <th>3</th>\n",
       "      <td>4</td>\n",
       "      <td>2015-01-05</td>\n",
       "      <td>Misc Payment RBC CREDIT CARD</td>\n",
       "      <td>-684.90</td>\n",
       "      <td>RBC_CHEQUING</td>\n",
       "      <td>[transfer, cardpayment]</td>\n",
       "    </tr>\n",
       "    <tr>\n",
       "      <th>4</th>\n",
       "      <td>5</td>\n",
       "      <td>2015-01-16</td>\n",
       "      <td>Monthly fee</td>\n",
       "      <td>-10.95</td>\n",
       "      <td>RBC_CHEQUING</td>\n",
       "      <td>[misc]</td>\n",
       "    </tr>\n",
       "  </tbody>\n",
       "</table>\n",
       "</div>"
      ],
      "text/plain": [
       "   id       date                           description   amount        source  \\\n",
       "0   1 2014-12-19  Funds transfer credit TT UJJAL KUMAR  5320.00  RBC_CHEQUING   \n",
       "1   2 2014-12-19     Funds transfer fee TT UJJAL KUMAR   -15.00  RBC_CHEQUING   \n",
       "2   3 2015-01-05    Online Banking payment - 0440 UOFT -5327.61  RBC_CHEQUING   \n",
       "3   4 2015-01-05          Misc Payment RBC CREDIT CARD  -684.90  RBC_CHEQUING   \n",
       "4   5 2015-01-16                           Monthly fee   -10.95  RBC_CHEQUING   \n",
       "\n",
       "                      tags  \n",
       "0               [transfer]  \n",
       "1                   [misc]  \n",
       "2              [education]  \n",
       "3  [transfer, cardpayment]  \n",
       "4                   [misc]  "
      ]
     },
     "execution_count": 7,
     "metadata": {},
     "output_type": "execute_result"
    }
   ],
   "source": [
    "import pandas as pd\n",
    "\n",
    "txns = pd.read_json(\"../data/all.json\")\n",
    "txns.head()"
   ]
  }
 ],
 "metadata": {
  "kernelspec": {
   "display_name": ".venv",
   "language": "python",
   "name": "python3"
  },
  "language_info": {
   "codemirror_mode": {
    "name": "ipython",
    "version": 3
   },
   "file_extension": ".py",
   "mimetype": "text/x-python",
   "name": "python",
   "nbconvert_exporter": "python",
   "pygments_lexer": "ipython3",
   "version": "3.12.3"
  }
 },
 "nbformat": 4,
 "nbformat_minor": 5
}
